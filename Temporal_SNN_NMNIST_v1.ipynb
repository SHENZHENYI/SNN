{
  "nbformat": 4,
  "nbformat_minor": 0,
  "metadata": {
    "colab": {
      "name": "Copy of temproal_NMNIST.ipynb",
      "provenance": [],
      "collapsed_sections": [],
      "toc_visible": true
    },
    "kernelspec": {
      "name": "python3",
      "display_name": "Python 3"
    },
    "accelerator": "GPU"
  },
  "cells": [
    {
      "cell_type": "markdown",
      "metadata": {
        "id": "yXwYf8daTHv0",
        "colab_type": "text"
      },
      "source": [
        "#Load data"
      ]
    },
    {
      "cell_type": "code",
      "metadata": {
        "id": "EQR4_QtoTKhe",
        "colab_type": "code",
        "colab": {}
      },
      "source": [
        "import zipfile\n",
        "import os\n",
        "with zipfile.ZipFile('NMNISTsmall.zip') as zip_file:\n",
        "    for member in zip_file.namelist():\n",
        "        if not os.path.exists('./' + member):\n",
        "            zip_file.extract(member, './')"
      ],
      "execution_count": 0,
      "outputs": []
    },
    {
      "cell_type": "code",
      "metadata": {
        "id": "CgT6e1ULTAGC",
        "colab_type": "code",
        "outputId": "71d0d80c-9013-4833-dccf-fc02d3960973",
        "colab": {
          "base_uri": "https://localhost:8080/",
          "height": 71
        }
      },
      "source": [
        "import numpy as np\n",
        "import spikeFileIO as io\n",
        "from matplotlib import pyplot as plt\n",
        "import os\n",
        "\n",
        "from matplotlib.gridspec import GridSpec\n",
        "import seaborn as sns\n",
        "\n",
        "import torch\n",
        "import torch.nn as nn\n",
        "import torchvision"
      ],
      "execution_count": 2,
      "outputs": [
        {
          "output_type": "stream",
          "text": [
            "/usr/local/lib/python3.6/dist-packages/statsmodels/tools/_testing.py:19: FutureWarning: pandas.util.testing is deprecated. Use the functions in the public API at pandas.testing instead.\n",
            "  import pandas.util.testing as tm\n"
          ],
          "name": "stderr"
        }
      ]
    },
    {
      "cell_type": "code",
      "metadata": {
        "id": "noCmUW3kTGho",
        "colab_type": "code",
        "colab": {}
      },
      "source": [
        "\n",
        "#lets collect addresses of training and test data\n",
        "def load(fname):\n",
        "    ''' Load the file using std open'''\n",
        "    f = open(fname,'r')\n",
        "\n",
        "    data = []\n",
        "    for line in f.readlines():\n",
        "        data.append(line.replace('\\n','').split(' '))\n",
        "\n",
        "    f.close()\n",
        "\n",
        "    return data\n",
        "\n",
        "path = 'NMNISTsmall/'\n",
        "#train data\n",
        "training_files = load('NMNISTsmall/train1K.txt')\n",
        "training_files = training_files[1:]\n",
        "\n",
        "training_addrs = []\n",
        "training_labels = []\n",
        "for i in range (len(training_files)):\n",
        "  training_addrs.append(path+training_files[i][0][:-2]+'.bs2')\n",
        "  training_labels.append(training_files[i][0][-1])\n",
        "\n",
        "#test data\n",
        "test_files = load('NMNISTsmall/test100.txt')\n",
        "test_files = test_files[1:]\n",
        "\n",
        "test_addrs = []\n",
        "test_labels = []\n",
        "for i in range (len(test_files)):\n",
        "  test_addrs.append(path+test_files[i][0][:-2]+'.bs2')\n",
        "  test_labels.append(test_files[i][0][-1])"
      ],
      "execution_count": 0,
      "outputs": []
    },
    {
      "cell_type": "markdown",
      "metadata": {
        "id": "f1EZ_3_oVVO7",
        "colab_type": "text"
      },
      "source": [
        "Data representation review:\n",
        "\n",
        "In the original paper, the spiking MNIST set is made according to the raw pixel brightness values. All spiking time is in a range from 0 to 1. They code dark pixels eariler than brighter ones. Those pixels not spiking are recognised as not-spiking-neurons which is dealt specifically in the training process.\n",
        "\n",
        "Now the problem becomes that how can we construct the data structure of NMNIST, and still do the work.\n",
        "\n",
        "The first difference between the Google devised data and our data is that their input neuron can have 1 or 0 spike at a specific pixel, wheras our data can have multiple spikes in one pixel. Take the 0th sample as an example, it has 4681 spikes, while 4197 of pixels spike more than once.\n",
        "\n",
        "\n",
        "Now my decision is to only retain the first spiking time of each pixel following the logic of the original paper: they only retain the first spike in the hidden units. We will see what we get. "
      ]
    },
    {
      "cell_type": "code",
      "metadata": {
        "id": "HFoK64m9VT5Z",
        "colab_type": "code",
        "colab": {}
      },
      "source": [
        "def xyp21dim_onlyfirstspikepreserved(TD):\n",
        "  TD_temporal = torch.ones((34,34,2))*2.8 #assumed that 2.8 is a mask number, identified as no-spiking time. 2.8 is due to historical reason\n",
        "  for i in range(TD.x.shape[0]):\n",
        "    if TD_temporal[TD.x[i], TD.y[i], TD.p[i]] == 2.8:\n",
        "      TD_temporal[TD.x[i], TD.y[i], TD.p[i]] = TD.t[i]/150 #normalisation; taking 150 as the expected largest time \n",
        "  return TD_temporal"
      ],
      "execution_count": 0,
      "outputs": []
    },
    {
      "cell_type": "code",
      "metadata": {
        "id": "O1Of53-gTOU6",
        "colab_type": "code",
        "colab": {}
      },
      "source": [
        "def dense_data_generator(X, y, batch_size, shuffle=True, device = 'cuda', dtype=torch.float):\n",
        "    \"\"\" This generator takes training data's address and generates spiking network input as dense tensors. \n",
        "\n",
        "    Args:\n",
        "        X: The data ( 'data/userx_lighting_conditions/y.npy' )\n",
        "        y: The labels\n",
        "        batch_size: batch size\n",
        "    \"\"\" \n",
        "    labels_ = np.array(y,dtype=np.int)\n",
        "    number_of_batches = len(X)//batch_size\n",
        "    sample_index = np.arange(len(X))\n",
        "\n",
        "    if shuffle:\n",
        "        np.random.shuffle(sample_index)\n",
        "\n",
        "    counter = 0\n",
        "    while counter<number_of_batches:\n",
        "        batch_index = sample_index[batch_size*counter:batch_size*(counter+1)]\n",
        "        X_batch = torch.empty((batch_size,2*34*34),dtype=dtype)\n",
        "        for bc,i in enumerate(batch_index):\n",
        "            TD = io.read2Dspikes(X[i])\n",
        "            X_batch_temp = xyp21dim_onlyfirstspikepreserved(TD)\n",
        "            #flatten dimensions and save in X_batch\n",
        "            X_batch[bc] = X_batch_temp.view((-1))\n",
        "        y_batch = torch.tensor(labels_[batch_index],device=device)\n",
        "        yield [X_batch.to(device=device), y_batch.to(device=device)] \n",
        "        counter+=1    "
      ],
      "execution_count": 0,
      "outputs": []
    },
    {
      "cell_type": "markdown",
      "metadata": {
        "id": "c5nTmcjaqFPJ",
        "colab_type": "text"
      },
      "source": [
        "# Kernel"
      ]
    },
    {
      "cell_type": "markdown",
      "metadata": {
        "id": "XCZfWyT_bN_6",
        "colab_type": "text"
      },
      "source": [
        "Kernel generates spiking time of a neuron given some input spike time "
      ]
    },
    {
      "cell_type": "code",
      "metadata": {
        "id": "iurUZwg5i-fa",
        "colab_type": "code",
        "colab": {}
      },
      "source": [
        "def alpha_kernel_response_temporal_v2(input_time, weights, tau = 1, thre = 1, t_max = 300): #faster implementation\n",
        "  #argument: input_time shape = (n_batch x n_input);  weights shape = (n_input x n_output)\n",
        "  #alpha_kernel_response is t*e^(tau*t); the increment of this kernel is (1+t*tau)*exp(tau*t)\n",
        "  n_batch = input_time.shape[0]\n",
        "  n_input = input_time.shape[1]\n",
        "  n_output = weights.shape[1]\n",
        "  precision = 100.0\n",
        "\n",
        "  v_accu = torch.zeros((n_batch, n_output), device = input_time.device)\n",
        "  spike_time = torch.zeros_like(v_accu)\n",
        "  spike_time_mem = torch.ones_like(v_accu)\n",
        "  for t in range(t_max):\n",
        "    t_clamp = torch.clamp(t/precision -input_time, 0, t_max)\n",
        "    invalid_incr = (t_clamp==0)\n",
        "    v_incr = torch.exp(-tau*t_clamp)*(1-tau*t_clamp) #unweighted dv/dt\n",
        "    v_incr[invalid_incr] = 0\n",
        "    v_incr = torch.mm(v_incr, weights)/precision #dv/dt * delta_t\n",
        "    v_accu += v_incr #update the membrane potential at time instance t\n",
        "    index = (v_accu>thre) & (spike_time_mem == 1) #output index to update the earilest spiking time\n",
        "    spike_time[index] = t/precision\n",
        "    spike_time_mem[index] = 0 #mark the updated output index such that it will not be updated again\n",
        "  \n",
        "  index_nospike = (spike_time == 0)\n",
        "  spike_time[index_nospike] = 2.8 #an arbirary number that identifies no-spiking neuron\n",
        "  \n",
        "  return spike_time.to(input_time.device)"
      ],
      "execution_count": 0,
      "outputs": []
    },
    {
      "cell_type": "markdown",
      "metadata": {
        "id": "_StECwi5qXf0",
        "colab_type": "text"
      },
      "source": [
        "# Network Configuratoin"
      ]
    },
    {
      "cell_type": "markdown",
      "metadata": {
        "id": "C5Q514pfXcnS",
        "colab_type": "text"
      },
      "source": [
        "Here we configure a SNN with input layer of a size 2x34x34, a hidden layer of a size 100, and an output layer of a size 10. Moreover, both the input layer and the hidden layer have one bias to prevent neuron from not spiking."
      ]
    },
    {
      "cell_type": "code",
      "metadata": {
        "id": "xpOS_flpqSN3",
        "colab_type": "code",
        "outputId": "4ecef25d-25a3-468c-fd65-8558b2acd841",
        "colab": {
          "base_uri": "https://localhost:8080/",
          "height": 51
        }
      },
      "source": [
        "nb_inputs  = 2*34*34\n",
        "nb_hidden  = 100\n",
        "nb_outputs = 10\n",
        "#we assume there is only 1 batch now\n",
        "\n",
        "#weight_scale = 7*(1.0-beta) # this should give us some spikes to begin with\n",
        "\n",
        "dtype=torch.float\n",
        "if torch.cuda.is_available():\n",
        "    device = torch.device(\"cuda\")     \n",
        "else:\n",
        "    device = torch.device(\"cpu\")\n",
        "\n",
        "#initialisation\n",
        "weight_scale = np.sqrt(2)\n",
        "\n",
        "nb_bias1 = 1\n",
        "nb_bias2 = 1\n",
        "\n",
        "\n",
        "w1 = torch.empty((nb_inputs, nb_hidden),  device=device, dtype=dtype, requires_grad=True)\n",
        "torch.nn.init.normal_(w1, mean=7.83912*weight_scale/np.sqrt(nb_inputs+nb_hidden+nb_bias1), std=weight_scale/np.sqrt(nb_inputs+nb_hidden+nb_bias1)) #the mean is brought up to 1.5 to force neurons to spike initially\n",
        "\n",
        "w2 = torch.empty((nb_hidden, nb_outputs), device=device, dtype=dtype, requires_grad=True)\n",
        "torch.nn.init.normal_(w2, mean=7.83912*weight_scale/np.sqrt(nb_inputs+nb_hidden+nb_bias2), std=weight_scale/np.sqrt(nb_hidden+nb_outputs+nb_bias2))\n",
        "\n",
        "bias1_time = torch.empty((nb_bias1),  device=device, dtype=dtype, requires_grad=True)\n",
        "torch.nn.init.uniform_(bias1_time, a=0.0, b=1.0)\n",
        "bias1_weight = torch.empty((nb_bias1, nb_hidden), device=device, dtype=dtype, requires_grad=True)\n",
        "torch.nn.init.normal_(bias1_weight, mean=-0.275419*weight_scale/np.sqrt(nb_inputs+nb_bias1+nb_hidden), std=weight_scale/np.sqrt(nb_inputs+nb_bias1+nb_hidden))\n",
        "#torch.nn.init.uniform_(bias1_weight, a=1.0, b=1.0)\n",
        "\n",
        "\n",
        "bias2_time = torch.empty((nb_bias2),  device=device, dtype=dtype, requires_grad=True)\n",
        "torch.nn.init.uniform_(bias2_time, a=0.0, b=1.0)\n",
        "bias2_weight = torch.empty((nb_bias2, nb_outputs), device=device, dtype=dtype, requires_grad=True)\n",
        "torch.nn.init.normal_(bias2_weight, mean=-0.275419*weight_scale/np.sqrt(nb_outputs+nb_bias2+nb_hidden), std=weight_scale/np.sqrt(nb_outputs+nb_bias2+nb_hidden))\n",
        "#torch.nn.init.uniform_(bias2_weight, a=1.0, b=1.0)\n",
        "\n"
      ],
      "execution_count": 7,
      "outputs": [
        {
          "output_type": "execute_result",
          "data": {
            "text/plain": [
              "tensor([[-0.0367,  0.0213, -0.1721,  0.0224, -0.1343, -0.1208,  0.0648,  0.1651,\n",
              "         -0.1455, -0.1769]], device='cuda:0', requires_grad=True)"
            ]
          },
          "metadata": {
            "tags": []
          },
          "execution_count": 7
        }
      ]
    },
    {
      "cell_type": "code",
      "metadata": {
        "id": "U__OAbEBv15-",
        "colab_type": "code",
        "outputId": "fde2bffa-ad9b-4585-b7e5-29c8017acce6",
        "colab": {
          "base_uri": "https://localhost:8080/",
          "height": 51
        }
      },
      "source": [
        "print(bias1_time.shape)\n",
        "print(w1.shape)"
      ],
      "execution_count": 8,
      "outputs": [
        {
          "output_type": "stream",
          "text": [
            "torch.Size([1])\n",
            "torch.Size([2312, 100])\n"
          ],
          "name": "stdout"
        }
      ]
    },
    {
      "cell_type": "markdown",
      "metadata": {
        "id": "nbZVG4RZqpht",
        "colab_type": "text"
      },
      "source": [
        "# Helper functions"
      ]
    },
    {
      "cell_type": "markdown",
      "metadata": {
        "id": "feUAfoCdX6eb",
        "colab_type": "text"
      },
      "source": [
        "helper function that solves W-Lambert function"
      ]
    },
    {
      "cell_type": "code",
      "metadata": {
        "id": "8N5rceeTKZJc",
        "colab_type": "code",
        "colab": {}
      },
      "source": [
        "#https://github.com/google/ihmehimmeli/blob/master/tempcoding/lambertw.cc\n",
        "def LambertW0InitialGuess_vec(x):\n",
        "  kNearBranchCutoff = -0.3235\n",
        "  kE = 2.718281828459045\n",
        "  x_copy = x.clone()\n",
        "\n",
        "  # Sqrt approximation near branch cutoff.\n",
        "  index1 = (x < kNearBranchCutoff)\n",
        "  x_copy[index1] = -1.0+torch.sqrt(2.0*(1+kE*x[index1]))\n",
        "\n",
        "  # Taylor series between [-1/e and 1/e].\n",
        "  index2 = (x > kNearBranchCutoff) & (x < -kNearBranchCutoff)\n",
        "  x_copy[index2] = x[index2] * (1 + x[index2] * (-1 + x[index2] * (3.0 / 2.0 - 8.0 / 3.0 * x[index2])))\n",
        "\n",
        "  #Series of piecewise linear approximation\n",
        "  index3 = (x > -kNearBranchCutoff) & (x < 0.6)\n",
        "  x_copy[index3] =  0.23675531078855933 + (x[index3] - 0.3) * 0.5493610866617109\n",
        "  \n",
        "  index4 = (x > 0.6) & (x < 0.8999999999999999)\n",
        "  x_copy[index4] = 0.4015636367870726 + (x[index4] - 0.6) * 0.4275644294878729\n",
        "\n",
        "  index5 = (x > 0.8999999999999999) & (x < 1.2)\n",
        "  x_copy[index5] = 0.5298329656334344 + (x[index5] - 0.8999999999999999) * 0.3524368357714513\n",
        "\n",
        "  index6 = (x > 1.2) & (x < 1.5)\n",
        "  x_copy[index6] = 0.6355640163648698 + (x[index6] - 1.2) * 0.30099113800452154\n",
        "\n",
        "  index7 = (x > 1.5) & (x < 1.8)\n",
        "  x_copy[index7] = 0.7258613577662263 + (x[index7] - 1.5) * 0.2633490154764343\n",
        "  \n",
        "  index8 = (x > 1.8) & (x < 2.0999999999999996)\n",
        "  x_copy[index8] = 0.8048660624091566 + (x[index8] - 1.8) * 0.2345089875713013;\n",
        "  \n",
        "  index9 = (x > 2.0999999999999996) & (x < 2.4)\n",
        "  x_copy[index9] =  0.8752187586805469 + (x[index9] - 2.0999999999999996) * 0.2116494532726034\n",
        "\n",
        "  index10 = (x > 2.4) & (x < 2.6999999999999997)\n",
        "  x_copy[index10] = 0.938713594662328 + (x[index10] - 2.4) * 0.19305046534383152\n",
        "\n",
        "  index11 = (x > 2.6999999999999997) & (x < 2.9999999999999996)\n",
        "  x_copy[index11] = 0.9966287342654774 + (x[index11] - 2.6999999999999997) * 0.17760053566187495\n",
        "  \n",
        "  #asymptotic approxiamtion\n",
        "  index12 = ~(index1 + index2 + index3 + index4 + index5 + index6 +index7 +index8 +index9 +index10 + index11)\n",
        "  l = torch.log(x[index12])\n",
        "  ll = torch.log(l)\n",
        "  x_copy[index12] = l - ll + ll/l\n",
        "  return x_copy\n",
        "\n",
        "def LambertW0_vec(x):\n",
        "  x_copy = x.clone()\n",
        "  kReciprocalE = 0.36787944117\n",
        "  kDesiredAbsoluteDifference = 1e-3\n",
        "  kNumMaxIters = 10\n",
        "\n",
        "  index1 =  (x < -kReciprocalE)\n",
        "  x_copy[index1] = 0\n",
        "  #return x, False\n",
        "\n",
        "  index2 = (x == 0.0)\n",
        "  x_copy[index2] = 0\n",
        "\n",
        "  index3 = (x == -kReciprocalE)\n",
        "  x_copy[index3] = -1 \n",
        "\n",
        "  index4 = ~(index1 + index2 + index3)\n",
        "\n",
        "  #current guess\n",
        "  w_n = LambertW0InitialGuess_vec(x[index4])\n",
        "  have_convergence = False\n",
        "\n",
        "  #fritsch iteration\n",
        "  for i in range(1):\n",
        "    z_n = torch.log(x[index4] / w_n) - w_n\n",
        "    q_n = 2.0 * (1.0 + w_n) * (1.0 + w_n + 2.0 / 3.0 * z_n)\n",
        "    e_n = (z_n / (1.0 + w_n)) * ((q_n - z_n) / (q_n - 2.0 * z_n))\n",
        "    w_n = w_n * (1.0 + e_n)\n",
        "    #Done this way as the log is the expensive part above.\n",
        "    #if (torch.abs(z_n) < kDesiredAbsoluteDifference):\n",
        "\n",
        "  x_copy[index4] = w_n\n",
        "  return x_copy\n",
        "    \n"
      ],
      "execution_count": 0,
      "outputs": []
    },
    {
      "cell_type": "markdown",
      "metadata": {
        "id": "FsrbscrmYSLk",
        "colab_type": "text"
      },
      "source": [
        "# Forward and backward propagation"
      ]
    },
    {
      "cell_type": "code",
      "metadata": {
        "id": "DBeu4hrGKU6n",
        "colab_type": "code",
        "colab": {}
      },
      "source": [
        "class SNN_process_v3(torch.autograd.Function):\n",
        "    \"\"\"\n",
        "    We can implement our own custom autograd Functions by subclassing\n",
        "    torch.autograd.Function and implementing the forward and backward passes\n",
        "    which operate on Tensors.\n",
        "    \"\"\"\n",
        "\n",
        "    @staticmethod\n",
        "    def forward(ctx, input, weight, bias_time, bias_weight):\n",
        "        \"\"\"\n",
        "        Argument: input is input spike time of dimension (n_output)\n",
        "                  weight is of dimension (n_input, n_output)\n",
        "                  bias_time is of dimension (n_bias)\n",
        "                  bias_weight is of dimension (n_bias, n_output)\n",
        "        \"\"\"\n",
        "        #####firstly, we combine the bias and inputs, and their weights#####\n",
        "        batch_size = input.shape[0]\n",
        "        n_bias = bias_time.shape[0]\n",
        "        bias_time_broadcasted = bias_time.view(1,n_bias).repeat(batch_size,1)\n",
        "        x_n_bias = torch.cat((input, bias_time_broadcasted),-1)\n",
        "\n",
        "        w_n_bias = torch.cat((weight,bias_weight),0)\n",
        "\n",
        "        #####membrane dynamics begin here###################################\n",
        "        max_time_units = 900\n",
        "        tau = 2 #0.181769\n",
        "        theta = 0.5 #1.16732\n",
        "        not_spike_time = 2.8 #if the neuron does not spike, the spike time is assigned to 2.8 sec. It is a potential problem\n",
        "        nb_outputs = w_n_bias.shape[1]\n",
        "\n",
        "        spk = alpha_kernel_response_temporal_v2(x_n_bias, w_n_bias, tau = tau, thre = theta, t_max = max_time_units)\n",
        "        ctx.intermediate_results = x_n_bias, w_n_bias, spk, n_bias\n",
        "\n",
        "        return spk\n",
        "\n",
        "    @staticmethod\n",
        "    def backward(ctx, grad_output):\n",
        "        \"\"\"\n",
        "        In the backward pass we receive a Tensor containing the gradient of the loss\n",
        "        with respect to the output, and we need to compute the gradient of the loss\n",
        "        with respect to the input.\n",
        "        \"\"\"\n",
        "        x_n_bias, w1_n_bias, spk, n_bias = ctx.intermediate_results\n",
        "        tau = 2 #0.181769\n",
        "        theta = 0.5 #1.16732\n",
        "        input = x_n_bias\n",
        "        batch_size = x_n_bias.shape[0]\n",
        "        nb_inputs = w1_n_bias.shape[0]\n",
        "        nb_outputs = w1_n_bias.shape[1]\n",
        "\n",
        "        #t0 = time.time()\n",
        "        #compute ingredients of gradients \n",
        "        AI = torch.zeros_like(spk).to(input.device)  #initialisation\n",
        "        BI = torch.zeros_like(spk).to(input.device)\n",
        "        t_out = torch.zeros_like(spk).to(input.device)\n",
        "        WI = torch.zeros_like(spk).to(input.device)\n",
        "        grad_input = torch.zeros((batch_size, nb_inputs, nb_outputs)).to(input.device)\n",
        "        grad_weight = torch.zeros((batch_size, nb_inputs, nb_outputs)).to(input.device)\n",
        "\n",
        "        #extend matrices to a common shape\n",
        "        x_n_bias_modified = x_n_bias.unsqueeze(2).repeat(1,1,nb_outputs)\n",
        "        grad_output_modified = grad_output.unsqueeze(1).repeat(1,nb_inputs,1)\n",
        "        w1_n_bias_repeated = w1_n_bias.unsqueeze(0).repeat(batch_size,1,1)\n",
        "\n",
        "        #find the index for valid inputs \n",
        "        spk_modified = spk.unsqueeze(1).repeat(1,nb_inputs,1)\n",
        "        valid_index = x_n_bias_modified < spk_modified\n",
        "\n",
        "        #print(valid_index)\n",
        "        AI = torch.sum(torch.exp(x_n_bias_modified*tau)*w1_n_bias_repeated*valid_index, 1).to(x_n_bias.device)\n",
        "        BI = torch.sum(torch.exp(x_n_bias_modified*tau)*x_n_bias_modified*w1_n_bias_repeated*valid_index, 1).to(x_n_bias.device)\n",
        "        #t1 = time.time()\n",
        "        #print('AI and BI', t1-t0)\n",
        "        exploding_WI_idx_batch = []\n",
        "        exploding_WI_idx_out = []\n",
        "\n",
        "        WI_intermediate = -tau*theta/AI * torch.exp(tau*BI/AI)\n",
        "        #print('WI_intermediate',WI_intermediate)\n",
        "        valid_WI_index = WI_intermediate != float('inf')\n",
        "        WI[valid_WI_index] = LambertW0_vec(WI_intermediate[valid_WI_index])\n",
        "        spk[~valid_WI_index] = 2.8\n",
        "\n",
        "        spk_modified = spk.unsqueeze(1).repeat(1,nb_inputs,1) #update spk_modified, as spk changes\n",
        "       \n",
        "\n",
        "        #extend matrices to a common shape\n",
        "        AI_modified = AI.unsqueeze(1).repeat(1,nb_inputs,1)\n",
        "        BI_modified = BI.unsqueeze(1).repeat(1,nb_inputs,1)\n",
        "        WI_modified = WI.unsqueeze(1).repeat(1,nb_inputs,1)\n",
        "\n",
        "        valid_weights = w1_n_bias_repeated*valid_index #only inputs contributed to the spike generation are recognised as valid inputs\n",
        "\n",
        "        dtout_dtin = grad_output_modified*valid_weights*torch.exp(x_n_bias_modified)*(x_n_bias_modified - BI_modified/AI_modified + WI_modified + 1)/(AI_modified*(1+WI_modified))\n",
        "        #no spk penalty\n",
        "        no_spk_idx = torch.where(spk_modified == 2.8)\n",
        "        dtout_dtin[no_spk_idx] = 0\n",
        "        grad_input = torch.sum(dtout_dtin,2)\n",
        "\n",
        "        dtout_dw = grad_output_modified*valid_index*torch.exp(x_n_bias_modified)*(x_n_bias_modified - BI_modified/AI_modified + WI_modified)/(AI_modified*(1+WI_modified))\n",
        "        dtout_dw[no_spk_idx] = -1 #-48.3748\n",
        "        grad_weight = torch.sum(dtout_dw,0)\n",
        "\n",
        "        ##clip at 100\n",
        "        torch.clamp(grad_weight, min=-100, max=100)\n",
        "        torch.clamp(grad_input, min=-100, max=100)\n",
        "        \n",
        "\n",
        "        return grad_input[:,:nb_inputs-n_bias], grad_weight[:nb_inputs-n_bias,:], grad_input[:,nb_inputs-n_bias:].view(batch_size,n_bias), grad_weight[nb_inputs-n_bias:,:].view(n_bias,nb_outputs) #I ignored the grad for the bias\n",
        "\n",
        "snn_process_v3 = SNN_process_v3.apply"
      ],
      "execution_count": 0,
      "outputs": []
    },
    {
      "cell_type": "markdown",
      "metadata": {
        "id": "yeq_GsruYm_g",
        "colab_type": "text"
      },
      "source": [
        "# Store the data in a tensor"
      ]
    },
    {
      "cell_type": "code",
      "metadata": {
        "id": "2os--Upf3tvQ",
        "colab_type": "code",
        "outputId": "4930c69e-59b3-46e3-911c-9e254fc41ddf",
        "colab": {
          "base_uri": "https://localhost:8080/",
          "height": 34
        }
      },
      "source": [
        "#load training data for training\n",
        "import time\n",
        "batch_size = 100\n",
        "x_batch =[]\n",
        "y_batch =[]\n",
        "t0 = time.time()\n",
        "for x_local, y_local in dense_data_generator(training_addrs, training_labels, batch_size, shuffle=False):\n",
        "  x_batch.append(x_local)\n",
        "  y_batch.append(y_local)\n",
        "t1 = time.time()\n",
        "print(t1-t0)"
      ],
      "execution_count": 11,
      "outputs": [
        {
          "output_type": "stream",
          "text": [
            "58.52047109603882\n"
          ],
          "name": "stdout"
        }
      ]
    },
    {
      "cell_type": "code",
      "metadata": {
        "id": "PMhDf_dy4mYl",
        "colab_type": "code",
        "outputId": "e6f889b1-1946-4b97-e60d-dba347be5f96",
        "colab": {
          "base_uri": "https://localhost:8080/",
          "height": 51
        }
      },
      "source": [
        "#load trainig data for accuracy\n",
        "for x_test, y_test in dense_data_generator(test_addrs, test_labels, len(test_addrs), shuffle=False):\n",
        "  1 == 1\n",
        "print(x_test.shape)\n",
        "print(y_test.shape)"
      ],
      "execution_count": 12,
      "outputs": [
        {
          "output_type": "stream",
          "text": [
            "torch.Size([100, 2312])\n",
            "torch.Size([100])\n"
          ],
          "name": "stdout"
        }
      ]
    },
    {
      "cell_type": "markdown",
      "metadata": {
        "id": "j5RhokqyYuaW",
        "colab_type": "text"
      },
      "source": [
        "# Classification accuracy"
      ]
    },
    {
      "cell_type": "code",
      "metadata": {
        "id": "62FW9Mdeure8",
        "colab_type": "code",
        "colab": {}
      },
      "source": [
        "def compute_classification_accuracy(x_data, y_data):\n",
        "    \"\"\" Computes classification accuracy on supplied data in batches. \"\"\"\n",
        "    accs = []\n",
        "    spk_hidden = snn_process_v3(x_data, w1, bias1_time, bias1_weight)\n",
        "    spk_out = snn_process_v3(spk_hidden, w2, bias2_time, bias2_weight)\n",
        "    pred = torch.argmin(spk_out,1)\n",
        "    acc = np.mean((y_data==pred).detach().cpu().numpy())\n",
        "    accs.append(acc)\n",
        "    return np.mean(accs)"
      ],
      "execution_count": 0,
      "outputs": []
    },
    {
      "cell_type": "code",
      "metadata": {
        "id": "sMMPMUtpyWXl",
        "colab_type": "code",
        "outputId": "ae71bcb0-1823-4d11-af9d-1dd55d75800e",
        "colab": {
          "base_uri": "https://localhost:8080/",
          "height": 51
        }
      },
      "source": [
        "import time \n",
        "t0 = time.time()\n",
        "n_batch = int(1000/batch_size)\n",
        "acc_list = []\n",
        "for i in range(n_batch):\n",
        "  acc = compute_classification_accuracy(x_batch[i],y_batch[i])\n",
        "  acc_list.append(acc)\n",
        "train_accuracy = np.mean(acc_list)\n",
        "t1 = time.time()\n",
        "print('time=', t1-t0)\n",
        "t0 = time.time()\n",
        "test_accuracy = compute_classification_accuracy(x_test,y_test)\n",
        "t1 = time.time()\n",
        "print('time=', t1-t0)\n"
      ],
      "execution_count": 14,
      "outputs": [
        {
          "output_type": "stream",
          "text": [
            "time= 7.759378433227539\n",
            "time= 0.7841007709503174\n"
          ],
          "name": "stdout"
        }
      ]
    },
    {
      "cell_type": "code",
      "metadata": {
        "id": "J--4IT-u5zvO",
        "colab_type": "code",
        "outputId": "bc7077d9-287a-4a71-ff6f-e85ab03024e8",
        "colab": {
          "base_uri": "https://localhost:8080/",
          "height": 51
        }
      },
      "source": [
        "print('train_accuracy', train_accuracy)\n",
        "print('test_accuracy', test_accuracy)"
      ],
      "execution_count": 15,
      "outputs": [
        {
          "output_type": "stream",
          "text": [
            "train_accuracy 0.11500000000000002\n",
            "test_accuracy 0.13\n"
          ],
          "name": "stdout"
        }
      ]
    },
    {
      "cell_type": "markdown",
      "metadata": {
        "id": "JNULZU2lbTH-",
        "colab_type": "text"
      },
      "source": [
        "# Training"
      ]
    },
    {
      "cell_type": "code",
      "metadata": {
        "id": "Tca7YtDCqobA",
        "colab_type": "code",
        "outputId": "737a38d4-0578-4a1a-cb99-f9dedc148e87",
        "colab": {
          "base_uri": "https://localhost:8080/",
          "height": 51
        }
      },
      "source": [
        "nb_inputs  = 2*34*34\n",
        "nb_hidden  = 100\n",
        "nb_outputs = 10\n",
        "#we assume there is only 1 batch now\n",
        "\n",
        "#weight_scale = 7*(1.0-beta) # this should give us some spikes to begin with\n",
        "\n",
        "dtype=torch.float\n",
        "if torch.cuda.is_available():\n",
        "    device = torch.device(\"cuda\")     \n",
        "else:\n",
        "    device = torch.device(\"cpu\")\n",
        "\n",
        "#initialisation\n",
        "weight_scale = np.sqrt(2)\n",
        "\n",
        "nb_bias1 = 1\n",
        "nb_bias2 = 1\n",
        "\n",
        "\n",
        "w1 = torch.empty((nb_inputs, nb_hidden),  device=device, dtype=dtype, requires_grad=True)\n",
        "torch.nn.init.normal_(w1, mean=7.83912*weight_scale/np.sqrt(nb_inputs+nb_hidden+nb_bias1), std=weight_scale/np.sqrt(nb_inputs+nb_hidden+nb_bias1)) #the mean is brought up to 1.5 to force neurons to spike initially\n",
        "\n",
        "w2 = torch.empty((nb_hidden, nb_outputs), device=device, dtype=dtype, requires_grad=True)\n",
        "torch.nn.init.normal_(w2, mean=7.83912*weight_scale/np.sqrt(nb_inputs+nb_hidden+nb_bias2), std=weight_scale/np.sqrt(nb_hidden+nb_outputs+nb_bias2))\n",
        "\n",
        "bias1_time = torch.empty((nb_bias1),  device=device, dtype=dtype, requires_grad=True)\n",
        "torch.nn.init.uniform_(bias1_time, a=0.0, b=1.0)\n",
        "bias1_weight = torch.empty((nb_bias1, nb_hidden), device=device, dtype=dtype, requires_grad=True)\n",
        "torch.nn.init.normal_(bias1_weight, mean=-0.275419*weight_scale/np.sqrt(nb_inputs+nb_bias1+nb_hidden), std=weight_scale/np.sqrt(nb_inputs+nb_bias1+nb_hidden))\n",
        "#torch.nn.init.uniform_(bias1_weight, a=1.0, b=1.0)\n",
        "\n",
        "\n",
        "bias2_time = torch.empty((nb_bias2),  device=device, dtype=dtype, requires_grad=True)\n",
        "torch.nn.init.uniform_(bias2_time, a=0.0, b=1.0)\n",
        "bias2_weight = torch.empty((nb_bias2, nb_outputs), device=device, dtype=dtype, requires_grad=True)\n",
        "torch.nn.init.normal_(bias2_weight, mean=-0.275419*weight_scale/np.sqrt(nb_outputs+nb_bias2+nb_hidden), std=weight_scale/np.sqrt(nb_outputs+nb_bias2+nb_hidden))\n",
        "#torch.nn.init.uniform_(bias2_weight, a=1.0, b=1.0)"
      ],
      "execution_count": 16,
      "outputs": [
        {
          "output_type": "execute_result",
          "data": {
            "text/plain": [
              "tensor([[-0.2235, -0.2336, -0.0431, -0.2613, -0.0197,  0.0229,  0.1542, -0.1053,\n",
              "          0.0487,  0.0204]], device='cuda:0', requires_grad=True)"
            ]
          },
          "metadata": {
            "tags": []
          },
          "execution_count": 16
        }
      ]
    },
    {
      "cell_type": "code",
      "metadata": {
        "id": "0k8pYHYHkWvs",
        "colab_type": "code",
        "outputId": "e45e0bd9-501f-4dc1-94ce-b4e2f0ea4ee4",
        "colab": {
          "base_uri": "https://localhost:8080/",
          "height": 1000
        }
      },
      "source": [
        "params = [w1,w2, bias1_weight, bias2_weight]\n",
        "params_time = [bias1_time, bias2_time]\n",
        "\n",
        "loss_fn = nn.CrossEntropyLoss()\n",
        "\n",
        "n_batch = int(1000/batch_size)\n",
        "lr = 2e-3\n",
        "lr_pulse = 6e-2\n",
        "\n",
        "loss_list = []\n",
        "loss_hist = []\n",
        "train_accuracies = []\n",
        "test_accuracies = []\n",
        "\n",
        "pred_hist = torch.zeros(1000,3,2)\n",
        "\n",
        "for e in range(200):\n",
        "    i=0\n",
        "    optimizer = torch.optim.Adam(params, lr=(lr), betas=(0.9,0.999))\n",
        "    optimizer_bias_time = torch.optim.Adam(params_time, lr=(lr_pulse), betas=(0.9,0.999))\n",
        "\n",
        "    #####run snn begins###\n",
        "    t0 = time.time()\n",
        "    #for x_local, y_local in dense_data_generator(training_addrs, training_labels, batch_size, shuffle=False):\n",
        "    for i in range(n_batch):\n",
        "      x_local = x_batch[i]\n",
        "      y_local = y_batch[i]\n",
        "      spk_hidden = snn_process_v3(x_local, w1, bias1_time, bias1_weight)\n",
        "      spk_out = snn_process_v3(spk_hidden, w2, bias2_time, bias2_weight)\n",
        "      #####run snn ends#####\n",
        "      #pred = torch.argmin(spk_out,1)\n",
        "      #if (y_train_batch!=pred): #for batch size =1\n",
        "      i+=1\n",
        "      loss = loss_fn(-spk_out, y_local)\n",
        "      loss_list.append(loss.item())\n",
        "\n",
        "      optimizer.zero_grad()\n",
        "      optimizer_bias_time.zero_grad()\n",
        "\n",
        "      loss.backward()\n",
        "\n",
        "      optimizer.step()\n",
        "      optimizer_bias_time.step()\n",
        "\n",
        "    loss_list_t=torch.FloatTensor(loss_list) \n",
        "    loss_hist.append(torch.mean(loss_list_t))\n",
        "\n",
        "    #compute accuracies\n",
        "    acc_list = []\n",
        "    for i in range(n_batch):\n",
        "      acc = compute_classification_accuracy(x_batch[i],y_batch[i])\n",
        "      acc_list.append(acc)\n",
        "    train_accuracy = np.mean(acc_list)\n",
        "    train_accuracies.append(train_accuracy)\n",
        "\n",
        "    test_accuracy = compute_classification_accuracy(x_test,y_test)\n",
        "    test_accuracies.append(test_accuracy)\n",
        "\n",
        "\n",
        "    t1 = time.time()\n",
        "    print('epoch number: ', e, 'loss is ', loss_hist[e].item(), 'train accu is', train_accuracy, 'test accu is', test_accuracy, 'time=', t1-t0)\n"
      ],
      "execution_count": 17,
      "outputs": [
        {
          "output_type": "stream",
          "text": [
            "epoch number:  0 loss is  2.302488327026367 train accu is 0.143 test accu is 0.18 time= 17.32118821144104\n",
            "epoch number:  1 loss is  2.302194833755493 train accu is 0.169 test accu is 0.18 time= 17.402410745620728\n",
            "epoch number:  2 loss is  2.3020200729370117 train accu is 0.189 test accu is 0.24 time= 17.335115432739258\n",
            "epoch number:  3 loss is  2.3018076419830322 train accu is 0.23000000000000004 test accu is 0.28 time= 17.610063791275024\n",
            "epoch number:  4 loss is  2.301502227783203 train accu is 0.259 test accu is 0.32 time= 17.419644832611084\n",
            "epoch number:  5 loss is  2.301185131072998 train accu is 0.30799999999999994 test accu is 0.34 time= 17.40800929069519\n",
            "epoch number:  6 loss is  2.3008179664611816 train accu is 0.35 test accu is 0.38 time= 17.399346590042114\n",
            "epoch number:  7 loss is  2.3003692626953125 train accu is 0.366 test accu is 0.4 time= 17.563453674316406\n",
            "epoch number:  8 loss is  2.299847364425659 train accu is 0.375 test accu is 0.4 time= 17.607072591781616\n",
            "epoch number:  9 loss is  2.2992358207702637 train accu is 0.36500000000000005 test accu is 0.41 time= 17.4576632976532\n",
            "epoch number:  10 loss is  2.2985336780548096 train accu is 0.361 test accu is 0.37 time= 17.596792936325073\n",
            "epoch number:  11 loss is  2.2976787090301514 train accu is 0.362 test accu is 0.41 time= 17.46137499809265\n",
            "epoch number:  12 loss is  2.2966384887695312 train accu is 0.351 test accu is 0.37 time= 17.541791677474976\n",
            "epoch number:  13 loss is  2.295306444168091 train accu is 0.346 test accu is 0.36 time= 17.490633249282837\n",
            "epoch number:  14 loss is  2.2934911251068115 train accu is 0.33899999999999997 test accu is 0.35 time= 17.732813596725464\n",
            "epoch number:  15 loss is  2.290947437286377 train accu is 0.32899999999999996 test accu is 0.33 time= 17.565703868865967\n",
            "epoch number:  16 loss is  2.2873475551605225 train accu is 0.32300000000000006 test accu is 0.33 time= 17.658291816711426\n",
            "epoch number:  17 loss is  2.283327579498291 train accu is 0.31000000000000005 test accu is 0.32 time= 17.850332021713257\n",
            "epoch number:  18 loss is  2.2786192893981934 train accu is 0.3 test accu is 0.32 time= 17.70034098625183\n",
            "epoch number:  19 loss is  2.2724087238311768 train accu is 0.30500000000000005 test accu is 0.33 time= 17.753548860549927\n",
            "epoch number:  20 loss is  2.2646799087524414 train accu is 0.312 test accu is 0.33 time= 17.996482372283936\n",
            "epoch number:  21 loss is  2.2553234100341797 train accu is 0.351 test accu is 0.35 time= 18.020742893218994\n",
            "epoch number:  22 loss is  2.2460384368896484 train accu is 0.364 test accu is 0.36 time= 18.011175870895386\n",
            "epoch number:  23 loss is  2.2364587783813477 train accu is 0.3969999999999999 test accu is 0.39 time= 18.00722575187683\n",
            "epoch number:  24 loss is  2.227032423019409 train accu is 0.429 test accu is 0.4 time= 18.128483295440674\n",
            "epoch number:  25 loss is  2.2174878120422363 train accu is 0.477 test accu is 0.44 time= 18.1053569316864\n",
            "epoch number:  26 loss is  2.206541061401367 train accu is 0.53 test accu is 0.57 time= 18.293638229370117\n",
            "epoch number:  27 loss is  2.1954617500305176 train accu is 0.6140000000000001 test accu is 0.62 time= 18.243594884872437\n",
            "epoch number:  28 loss is  2.1837174892425537 train accu is 0.6889999999999998 test accu is 0.66 time= 18.254709005355835\n",
            "epoch number:  29 loss is  2.1704258918762207 train accu is 0.714 test accu is 0.66 time= 18.197293758392334\n",
            "epoch number:  30 loss is  2.1551191806793213 train accu is 0.748 test accu is 0.7 time= 18.37805700302124\n",
            "epoch number:  31 loss is  2.137826681137085 train accu is 0.7719999999999999 test accu is 0.72 time= 18.379110097885132\n",
            "epoch number:  32 loss is  2.120298147201538 train accu is 0.8 test accu is 0.71 time= 18.355738401412964\n",
            "epoch number:  33 loss is  2.102090835571289 train accu is 0.806 test accu is 0.73 time= 18.263234615325928\n",
            "epoch number:  34 loss is  2.0836122035980225 train accu is 0.8089999999999999 test accu is 0.72 time= 18.49082064628601\n",
            "epoch number:  35 loss is  2.06516170501709 train accu is 0.8240000000000001 test accu is 0.74 time= 18.376805782318115\n",
            "epoch number:  36 loss is  2.047107696533203 train accu is 0.817 test accu is 0.7 time= 18.313963651657104\n",
            "epoch number:  37 loss is  2.0281872749328613 train accu is 0.8320000000000001 test accu is 0.69 time= 18.4107928276062\n",
            "epoch number:  38 loss is  2.008589029312134 train accu is 0.8350000000000002 test accu is 0.69 time= 18.458658933639526\n",
            "epoch number:  39 loss is  1.9889775514602661 train accu is 0.8380000000000001 test accu is 0.66 time= 18.475863695144653\n",
            "epoch number:  40 loss is  1.9689725637435913 train accu is 0.836 test accu is 0.66 time= 18.393393516540527\n",
            "epoch number:  41 loss is  1.9494978189468384 train accu is 0.8480000000000001 test accu is 0.68 time= 18.339969396591187\n",
            "epoch number:  42 loss is  1.930275559425354 train accu is 0.8440000000000001 test accu is 0.71 time= 18.266793727874756\n",
            "epoch number:  43 loss is  1.9112225770950317 train accu is 0.85 test accu is 0.71 time= 18.503536224365234\n",
            "epoch number:  44 loss is  1.8925278186798096 train accu is 0.8550000000000001 test accu is 0.7 time= 18.305105924606323\n",
            "epoch number:  45 loss is  1.874109148979187 train accu is 0.86 test accu is 0.71 time= 18.36824131011963\n",
            "epoch number:  46 loss is  1.8561497926712036 train accu is 0.866 test accu is 0.71 time= 18.423368453979492\n",
            "epoch number:  47 loss is  1.8388030529022217 train accu is 0.865 test accu is 0.71 time= 18.5166277885437\n",
            "epoch number:  48 loss is  1.8225783109664917 train accu is 0.873 test accu is 0.69 time= 18.429383516311646\n",
            "epoch number:  49 loss is  1.8066567182540894 train accu is 0.869 test accu is 0.71 time= 18.31404733657837\n",
            "epoch number:  50 loss is  1.7908605337142944 train accu is 0.8729999999999999 test accu is 0.7 time= 18.444090604782104\n",
            "epoch number:  51 loss is  1.7762846946716309 train accu is 0.8779999999999999 test accu is 0.7 time= 18.280813932418823\n",
            "epoch number:  52 loss is  1.7624903917312622 train accu is 0.884 test accu is 0.71 time= 18.446388959884644\n",
            "epoch number:  53 loss is  1.7484455108642578 train accu is 0.8770000000000001 test accu is 0.74 time= 18.3771390914917\n",
            "epoch number:  54 loss is  1.734763503074646 train accu is 0.8850000000000001 test accu is 0.69 time= 18.52577567100525\n",
            "epoch number:  55 loss is  1.7212632894515991 train accu is 0.884 test accu is 0.7 time= 18.389331579208374\n",
            "epoch number:  56 loss is  1.7082629203796387 train accu is 0.89 test accu is 0.71 time= 18.62957215309143\n",
            "epoch number:  57 loss is  1.6959141492843628 train accu is 0.8880000000000001 test accu is 0.72 time= 18.505719423294067\n",
            "epoch number:  58 loss is  1.6838575601577759 train accu is 0.89 test accu is 0.72 time= 18.434813737869263\n",
            "epoch number:  59 loss is  1.671924114227295 train accu is 0.8879999999999999 test accu is 0.7 time= 18.40378975868225\n",
            "epoch number:  60 loss is  1.6605829000473022 train accu is 0.8939999999999999 test accu is 0.71 time= 18.496376752853394\n",
            "epoch number:  61 loss is  1.6494003534317017 train accu is 0.8949999999999999 test accu is 0.7 time= 18.59403371810913\n",
            "epoch number:  62 loss is  1.6388022899627686 train accu is 0.901 test accu is 0.72 time= 18.4557888507843\n",
            "epoch number:  63 loss is  1.6284748315811157 train accu is 0.8939999999999999 test accu is 0.69 time= 18.42532444000244\n",
            "epoch number:  64 loss is  1.6185916662216187 train accu is 0.898 test accu is 0.72 time= 18.483648777008057\n",
            "epoch number:  65 loss is  1.6089011430740356 train accu is 0.891 test accu is 0.73 time= 18.55396819114685\n",
            "epoch number:  66 loss is  1.599409818649292 train accu is 0.8950000000000001 test accu is 0.71 time= 18.449746131896973\n",
            "epoch number:  67 loss is  1.5905754566192627 train accu is 0.8960000000000001 test accu is 0.73 time= 18.542394399642944\n",
            "epoch number:  68 loss is  1.5817365646362305 train accu is 0.897 test accu is 0.75 time= 18.384222745895386\n",
            "epoch number:  69 loss is  1.5734219551086426 train accu is 0.899 test accu is 0.74 time= 18.622605562210083\n",
            "epoch number:  70 loss is  1.5652492046356201 train accu is 0.8939999999999999 test accu is 0.74 time= 18.448702096939087\n",
            "epoch number:  71 loss is  1.5569593906402588 train accu is 0.901 test accu is 0.74 time= 18.636247396469116\n",
            "epoch number:  72 loss is  1.5489327907562256 train accu is 0.8969999999999999 test accu is 0.75 time= 18.512552738189697\n",
            "epoch number:  73 loss is  1.540966272354126 train accu is 0.898 test accu is 0.75 time= 18.44647717475891\n",
            "epoch number:  74 loss is  1.533230185508728 train accu is 0.9020000000000001 test accu is 0.75 time= 18.49425506591797\n",
            "epoch number:  75 loss is  1.5258420705795288 train accu is 0.901 test accu is 0.74 time= 18.428064107894897\n",
            "epoch number:  76 loss is  1.5183625221252441 train accu is 0.9029999999999999 test accu is 0.75 time= 18.501248359680176\n",
            "epoch number:  77 loss is  1.5111600160598755 train accu is 0.893 test accu is 0.75 time= 18.561005115509033\n",
            "epoch number:  78 loss is  1.5039867162704468 train accu is 0.9049999999999999 test accu is 0.76 time= 18.59000587463379\n",
            "epoch number:  79 loss is  1.4972233772277832 train accu is 0.8940000000000001 test accu is 0.78 time= 18.48677396774292\n",
            "epoch number:  80 loss is  1.490393042564392 train accu is 0.901 test accu is 0.78 time= 18.55506157875061\n",
            "epoch number:  81 loss is  1.483733057975769 train accu is 0.898 test accu is 0.79 time= 18.47337770462036\n",
            "epoch number:  82 loss is  1.477296233177185 train accu is 0.9030000000000001 test accu is 0.8 time= 18.667526721954346\n",
            "epoch number:  83 loss is  1.471312165260315 train accu is 0.9029999999999999 test accu is 0.79 time= 18.52991223335266\n",
            "epoch number:  84 loss is  1.4652057886123657 train accu is 0.9030000000000001 test accu is 0.78 time= 18.55764627456665\n",
            "epoch number:  85 loss is  1.459238886833191 train accu is 0.9 test accu is 0.79 time= 18.60391926765442\n",
            "epoch number:  86 loss is  1.4532279968261719 train accu is 0.9099999999999999 test accu is 0.79 time= 18.68160605430603\n",
            "epoch number:  87 loss is  1.447357416152954 train accu is 0.906 test accu is 0.79 time= 18.806371450424194\n",
            "epoch number:  88 loss is  1.4414993524551392 train accu is 0.907 test accu is 0.8 time= 18.61218786239624\n",
            "epoch number:  89 loss is  1.4358551502227783 train accu is 0.9040000000000001 test accu is 0.79 time= 18.543161392211914\n",
            "epoch number:  90 loss is  1.4303942918777466 train accu is 0.9109999999999999 test accu is 0.79 time= 18.623369932174683\n",
            "epoch number:  91 loss is  1.4248762130737305 train accu is 0.906 test accu is 0.77 time= 18.717530012130737\n",
            "epoch number:  92 loss is  1.4192359447479248 train accu is 0.9120000000000001 test accu is 0.81 time= 18.673585891723633\n",
            "epoch number:  93 loss is  1.4138941764831543 train accu is 0.9110000000000001 test accu is 0.78 time= 18.692443132400513\n",
            "epoch number:  94 loss is  1.4087228775024414 train accu is 0.917 test accu is 0.81 time= 18.804522037506104\n",
            "epoch number:  95 loss is  1.4037693738937378 train accu is 0.907 test accu is 0.8 time= 18.853935956954956\n",
            "epoch number:  96 loss is  1.3987815380096436 train accu is 0.9189999999999999 test accu is 0.8 time= 18.77086615562439\n",
            "epoch number:  97 loss is  1.3937386274337769 train accu is 0.9100000000000001 test accu is 0.8 time= 18.850337266921997\n",
            "epoch number:  98 loss is  1.3890254497528076 train accu is 0.9109999999999999 test accu is 0.77 time= 18.731412649154663\n",
            "epoch number:  99 loss is  1.384304165840149 train accu is 0.915 test accu is 0.77 time= 18.874009132385254\n",
            "epoch number:  100 loss is  1.3796629905700684 train accu is 0.9120000000000001 test accu is 0.77 time= 18.81687569618225\n",
            "epoch number:  101 loss is  1.3750333786010742 train accu is 0.9120000000000001 test accu is 0.77 time= 18.737587690353394\n",
            "epoch number:  102 loss is  1.3703333139419556 train accu is 0.914 test accu is 0.78 time= 18.95646071434021\n",
            "epoch number:  103 loss is  1.366066813468933 train accu is 0.9120000000000001 test accu is 0.75 time= 19.200230836868286\n",
            "epoch number:  104 loss is  1.3619470596313477 train accu is 0.915 test accu is 0.77 time= 19.472219944000244\n",
            "epoch number:  105 loss is  1.3575987815856934 train accu is 0.913 test accu is 0.76 time= 19.276527404785156\n",
            "epoch number:  106 loss is  1.353501558303833 train accu is 0.915 test accu is 0.76 time= 19.162854433059692\n",
            "epoch number:  107 loss is  1.349326729774475 train accu is 0.915 test accu is 0.77 time= 19.331243991851807\n",
            "epoch number:  108 loss is  1.3454785346984863 train accu is 0.916 test accu is 0.78 time= 19.694676160812378\n",
            "epoch number:  109 loss is  1.3416707515716553 train accu is 0.9099999999999999 test accu is 0.76 time= 19.67465090751648\n",
            "epoch number:  110 loss is  1.338019609451294 train accu is 0.9100000000000001 test accu is 0.75 time= 19.52462387084961\n",
            "epoch number:  111 loss is  1.3343371152877808 train accu is 0.917 test accu is 0.77 time= 19.623164176940918\n",
            "epoch number:  112 loss is  1.3306909799575806 train accu is 0.914 test accu is 0.74 time= 19.49765658378601\n",
            "epoch number:  113 loss is  1.3271164894104004 train accu is 0.914 test accu is 0.76 time= 19.522846221923828\n",
            "epoch number:  114 loss is  1.3234525918960571 train accu is 0.914 test accu is 0.76 time= 19.548033237457275\n",
            "epoch number:  115 loss is  1.3199816942214966 train accu is 0.917 test accu is 0.79 time= 19.422935962677002\n",
            "epoch number:  116 loss is  1.3165444135665894 train accu is 0.9120000000000001 test accu is 0.77 time= 19.849530458450317\n",
            "epoch number:  117 loss is  1.3132814168930054 train accu is 0.9189999999999999 test accu is 0.75 time= 19.015531301498413\n",
            "epoch number:  118 loss is  1.3100470304489136 train accu is 0.915 test accu is 0.77 time= 19.775218963623047\n",
            "epoch number:  119 loss is  1.3069123029708862 train accu is 0.916 test accu is 0.77 time= 19.207756280899048\n",
            "epoch number:  120 loss is  1.3037508726119995 train accu is 0.916 test accu is 0.79 time= 19.826183319091797\n",
            "epoch number:  121 loss is  1.3007066249847412 train accu is 0.916 test accu is 0.77 time= 19.37288188934326\n",
            "epoch number:  122 loss is  1.2975703477859497 train accu is 0.916 test accu is 0.77 time= 19.80793023109436\n",
            "epoch number:  123 loss is  1.294813632965088 train accu is 0.914 test accu is 0.78 time= 19.551912784576416\n",
            "epoch number:  124 loss is  1.2920169830322266 train accu is 0.916 test accu is 0.78 time= 19.581290245056152\n",
            "epoch number:  125 loss is  1.2891470193862915 train accu is 0.914 test accu is 0.76 time= 19.571987867355347\n",
            "epoch number:  126 loss is  1.2863545417785645 train accu is 0.914 test accu is 0.77 time= 19.435354471206665\n",
            "epoch number:  127 loss is  1.2834177017211914 train accu is 0.9179999999999999 test accu is 0.76 time= 19.551793336868286\n",
            "epoch number:  128 loss is  1.2804726362228394 train accu is 0.9169999999999998 test accu is 0.76 time= 19.758392095565796\n",
            "epoch number:  129 loss is  1.2777715921401978 train accu is 0.915 test accu is 0.76 time= 19.77410578727722\n",
            "epoch number:  130 loss is  1.2751320600509644 train accu is 0.9179999999999999 test accu is 0.77 time= 19.572030305862427\n",
            "epoch number:  131 loss is  1.2723667621612549 train accu is 0.9120000000000001 test accu is 0.75 time= 19.6768000125885\n",
            "epoch number:  132 loss is  1.2697784900665283 train accu is 0.921 test accu is 0.78 time= 19.6374831199646\n",
            "epoch number:  133 loss is  1.267325520515442 train accu is 0.916 test accu is 0.75 time= 19.681086778640747\n",
            "epoch number:  134 loss is  1.2647887468338013 train accu is 0.9149999999999998 test accu is 0.75 time= 19.717284440994263\n",
            "epoch number:  135 loss is  1.262191653251648 train accu is 0.915 test accu is 0.76 time= 19.37711763381958\n",
            "epoch number:  136 loss is  1.25985586643219 train accu is 0.914 test accu is 0.77 time= 19.757726430892944\n",
            "epoch number:  137 loss is  1.25749933719635 train accu is 0.914 test accu is 0.79 time= 19.60747766494751\n",
            "epoch number:  138 loss is  1.2553523778915405 train accu is 0.916 test accu is 0.76 time= 19.77173948287964\n",
            "epoch number:  139 loss is  1.2532132863998413 train accu is 0.914 test accu is 0.78 time= 19.69821310043335\n",
            "epoch number:  140 loss is  1.2508429288864136 train accu is 0.9179999999999999 test accu is 0.78 time= 19.40680170059204\n",
            "epoch number:  141 loss is  1.248412013053894 train accu is 0.917 test accu is 0.76 time= 19.19281530380249\n",
            "epoch number:  142 loss is  1.2461427450180054 train accu is 0.917 test accu is 0.77 time= 19.10355305671692\n",
            "epoch number:  143 loss is  1.2439441680908203 train accu is 0.9190000000000002 test accu is 0.77 time= 19.117578506469727\n",
            "epoch number:  144 loss is  1.2416311502456665 train accu is 0.9200000000000002 test accu is 0.77 time= 19.24889612197876\n",
            "epoch number:  145 loss is  1.2396236658096313 train accu is 0.9190000000000002 test accu is 0.76 time= 19.235110998153687\n",
            "epoch number:  146 loss is  1.2376762628555298 train accu is 0.916 test accu is 0.78 time= 19.120460033416748\n",
            "epoch number:  147 loss is  1.2357087135314941 train accu is 0.917 test accu is 0.76 time= 19.015865087509155\n",
            "epoch number:  148 loss is  1.2336293458938599 train accu is 0.917 test accu is 0.76 time= 19.07742667198181\n",
            "epoch number:  149 loss is  1.2316670417785645 train accu is 0.917 test accu is 0.76 time= 19.223015785217285\n",
            "epoch number:  150 loss is  1.2297629117965698 train accu is 0.9169999999999998 test accu is 0.76 time= 18.971553564071655\n",
            "epoch number:  151 loss is  1.2278443574905396 train accu is 0.9179999999999999 test accu is 0.77 time= 19.10692548751831\n",
            "epoch number:  152 loss is  1.2259974479675293 train accu is 0.923 test accu is 0.75 time= 19.323895931243896\n",
            "epoch number:  153 loss is  1.2240668535232544 train accu is 0.9179999999999999 test accu is 0.74 time= 19.243812084197998\n",
            "epoch number:  154 loss is  1.2222681045532227 train accu is 0.921 test accu is 0.75 time= 19.19774317741394\n",
            "epoch number:  155 loss is  1.2204322814941406 train accu is 0.9200000000000002 test accu is 0.76 time= 19.103575229644775\n",
            "epoch number:  156 loss is  1.2185041904449463 train accu is 0.922 test accu is 0.76 time= 19.20546793937683\n",
            "epoch number:  157 loss is  1.216651201248169 train accu is 0.922 test accu is 0.73 time= 19.11781120300293\n",
            "epoch number:  158 loss is  1.2148393392562866 train accu is 0.924 test accu is 0.76 time= 19.0716073513031\n",
            "epoch number:  159 loss is  1.2130911350250244 train accu is 0.9190000000000002 test accu is 0.77 time= 19.07295513153076\n",
            "epoch number:  160 loss is  1.211412787437439 train accu is 0.9259999999999999 test accu is 0.77 time= 19.193466186523438\n",
            "epoch number:  161 loss is  1.2096495628356934 train accu is 0.9269999999999999 test accu is 0.74 time= 19.191049098968506\n",
            "epoch number:  162 loss is  1.2079695463180542 train accu is 0.921 test accu is 0.76 time= 19.229594230651855\n",
            "epoch number:  163 loss is  1.206346035003662 train accu is 0.921 test accu is 0.74 time= 19.128333568572998\n",
            "epoch number:  164 loss is  1.2046867609024048 train accu is 0.9189999999999999 test accu is 0.77 time= 19.077810525894165\n",
            "epoch number:  165 loss is  1.2030818462371826 train accu is 0.922 test accu is 0.73 time= 19.111459016799927\n",
            "epoch number:  166 loss is  1.201387643814087 train accu is 0.925 test accu is 0.75 time= 19.2315092086792\n",
            "epoch number:  167 loss is  1.1996381282806396 train accu is 0.9190000000000002 test accu is 0.74 time= 19.129789352416992\n",
            "epoch number:  168 loss is  1.1981980800628662 train accu is 0.9270000000000002 test accu is 0.76 time= 19.35729479789734\n",
            "epoch number:  169 loss is  1.1965999603271484 train accu is 0.925 test accu is 0.74 time= 19.45534348487854\n",
            "epoch number:  170 loss is  1.1950842142105103 train accu is 0.9260000000000002 test accu is 0.73 time= 19.31057119369507\n",
            "epoch number:  171 loss is  1.1938544511795044 train accu is 0.9170000000000001 test accu is 0.75 time= 19.087327480316162\n",
            "epoch number:  172 loss is  1.1926378011703491 train accu is 0.923 test accu is 0.76 time= 19.087823152542114\n",
            "epoch number:  173 loss is  1.1912388801574707 train accu is 0.9200000000000002 test accu is 0.74 time= 19.07996106147766\n",
            "epoch number:  174 loss is  1.1900124549865723 train accu is 0.9200000000000002 test accu is 0.75 time= 19.24680757522583\n",
            "epoch number:  175 loss is  1.1888903379440308 train accu is 0.925 test accu is 0.74 time= 19.146418571472168\n",
            "epoch number:  176 loss is  1.187613606452942 train accu is 0.925 test accu is 0.74 time= 19.308165550231934\n",
            "epoch number:  177 loss is  1.1861188411712646 train accu is 0.925 test accu is 0.74 time= 19.09264874458313\n",
            "epoch number:  178 loss is  1.1845545768737793 train accu is 0.925 test accu is 0.75 time= 19.133084774017334\n",
            "epoch number:  179 loss is  1.18303382396698 train accu is 0.9269999999999999 test accu is 0.74 time= 19.229437351226807\n",
            "epoch number:  180 loss is  1.1817023754119873 train accu is 0.925 test accu is 0.74 time= 19.132513284683228\n",
            "epoch number:  181 loss is  1.1805353164672852 train accu is 0.924 test accu is 0.72 time= 19.138530492782593\n",
            "epoch number:  182 loss is  1.1796027421951294 train accu is 0.923 test accu is 0.73 time= 19.267414569854736\n",
            "epoch number:  183 loss is  1.1785674095153809 train accu is 0.925 test accu is 0.76 time= 19.272008895874023\n",
            "epoch number:  184 loss is  1.1776783466339111 train accu is 0.9259999999999999 test accu is 0.74 time= 19.34363293647766\n",
            "epoch number:  185 loss is  1.176734447479248 train accu is 0.9280000000000002 test accu is 0.73 time= 19.340351104736328\n",
            "epoch number:  186 loss is  1.1755961179733276 train accu is 0.925 test accu is 0.74 time= 19.45235562324524\n",
            "epoch number:  187 loss is  1.174235463142395 train accu is 0.9259999999999999 test accu is 0.74 time= 19.4090678691864\n",
            "epoch number:  188 loss is  1.1729687452316284 train accu is 0.9259999999999999 test accu is 0.73 time= 19.185879230499268\n",
            "epoch number:  189 loss is  1.1717218160629272 train accu is 0.9259999999999999 test accu is 0.75 time= 19.169525146484375\n",
            "epoch number:  190 loss is  1.1705727577209473 train accu is 0.9280000000000002 test accu is 0.77 time= 19.144331455230713\n",
            "epoch number:  191 loss is  1.169826865196228 train accu is 0.923 test accu is 0.74 time= 19.177229404449463\n",
            "epoch number:  192 loss is  1.168990135192871 train accu is 0.9280000000000002 test accu is 0.76 time= 19.318427562713623\n",
            "epoch number:  193 loss is  1.167915940284729 train accu is 0.9280000000000002 test accu is 0.77 time= 19.171544075012207\n",
            "epoch number:  194 loss is  1.1666747331619263 train accu is 0.9269999999999999 test accu is 0.74 time= 19.19060468673706\n",
            "epoch number:  195 loss is  1.1652061939239502 train accu is 0.9269999999999999 test accu is 0.74 time= 19.359828233718872\n",
            "epoch number:  196 loss is  1.1639517545700073 train accu is 0.9289999999999999 test accu is 0.74 time= 19.327794075012207\n",
            "epoch number:  197 loss is  1.1627507209777832 train accu is 0.9289999999999999 test accu is 0.76 time= 19.303016185760498\n",
            "epoch number:  198 loss is  1.1616820096969604 train accu is 0.9339999999999999 test accu is 0.73 time= 19.248597383499146\n",
            "epoch number:  199 loss is  1.1609693765640259 train accu is 0.925 test accu is 0.75 time= 19.316452026367188\n"
          ],
          "name": "stdout"
        }
      ]
    },
    {
      "cell_type": "code",
      "metadata": {
        "id": "Wq3kMskLyttW",
        "colab_type": "code",
        "outputId": "05162439-40ee-4ed5-8ba7-5df6aea45392",
        "colab": {
          "base_uri": "https://localhost:8080/",
          "height": 312
        }
      },
      "source": [
        "plt.plot (train_accuracies,  label='train')\n",
        "plt.plot (test_accuracies, label='test')\n",
        "plt.legend()\n",
        "plt.ylabel('loss')\n",
        "plt.xlabel('epoch')\n",
        "plt.title('Accuracy')\n",
        "#plt.savefig('accuracy.eps')"
      ],
      "execution_count": 20,
      "outputs": [
        {
          "output_type": "execute_result",
          "data": {
            "text/plain": [
              "Text(0.5, 1.0, 'Accuracy')"
            ]
          },
          "metadata": {
            "tags": []
          },
          "execution_count": 20
        },
        {
          "output_type": "display_data",
          "data": {
            "image/png": "[encoded data removed]",
            "text/plain": [
              "<Figure size 432x288 with 1 Axes>"
            ]
          },
          "metadata": {
            "tags": [],
            "needs_background": "light"
          }
        }
      ]
    }
  ]
}